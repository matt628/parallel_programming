{
 "cells": [
  {
   "cell_type": "markdown",
   "metadata": {},
   "source": [
    "# Lab 1"
   ]
  },
  {
   "cell_type": "markdown",
   "metadata": {},
   "source": [
    "## Przetstowanie dwóch różnych typów komunikacji w MPI\n",
    "Wybrano komunikację: \n",
    "- synchroniczną `MPI_SSend`\n",
    "- buforową `MPI_BSend`"
   ]
  },
  {
   "cell_type": "markdown",
   "metadata": {},
   "source": [
    "Poniżej przedstaiono machine file: \n",
    "- dla komunikacji na jednym nodzie:\n",
    "```\n",
    "vnode-03.dydaktyka.icsr.agh.edu.pl:4\n",
    "```\n",
    "- dla komunikacji na dówch nodach\n",
    "```\n",
    "vnode-05.dydaktyka.icsr.agh.edu.pl\n",
    "vnode-06.dydaktyka.icsr.agh.edu.pl\n",
    "```"
   ]
  },
  {
   "cell_type": "code",
   "execution_count": null,
   "metadata": {},
   "outputs": [],
   "source": []
  },
  {
   "cell_type": "code",
   "execution_count": null,
   "metadata": {},
   "outputs": [],
   "source": []
  }
 ],
 "metadata": {
  "language_info": {
   "name": "python"
  },
  "orig_nbformat": 4
 },
 "nbformat": 4,
 "nbformat_minor": 2
}
